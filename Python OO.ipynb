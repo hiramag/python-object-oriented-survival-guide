{
  "metadata": {
    "kernelspec": {
      "display_name": "Python 3.6",
      "name": "python36",
      "language": "python"
    },
    "language_info": {
      "mimetype": "text/x-python",
      "nbconvert_exporter": "python",
      "name": "python",
      "pygments_lexer": "ipython3",
      "version": "3.6.3",
      "file_extension": ".py",
      "codemirror_mode": {
        "version": 3,
        "name": "ipython"
      }
    }
  },
  "nbformat_minor": 2,
  "nbformat": 4,
  "cells": [
    {
      "cell_type": "markdown",
      "source": "Python OO Basics Survival Notebook\n----------------------------------",
      "metadata": {}
    },
    {
      "cell_type": "markdown",
      "source": "**Definitions**\n\nClass: blueprint for an instance (instance factories)\nInstance: A constructed *object* of the class (can have it's own data and state)\nType: indicator the class instance belongs to\nAttribute: any object value.  Ex: object.attribute\nMethod: a \"callable attribute\" defined in the class\n  example of a method print var.upper()",
      "metadata": {}
    },
    {
      "cell_type": "markdown",
      "source": "**Create A Class**\n\nconvention is to use CamelCase for class name",
      "metadata": {}
    },
    {
      "cell_type": "code",
      "source": "class FirstClass():\n    pass\ninst = FirstClass()\nprint(inst)",
      "metadata": {
        "trusted": true
      },
      "execution_count": 30,
      "outputs": [
        {
          "text": "<__main__.FirstClass object at 0x7ff948ffcf28>\n",
          "name": "stdout",
          "output_type": "stream"
        }
      ]
    },
    {
      "cell_type": "markdown",
      "source": "main is the namespace where the instance is running in\nFirstClass is the instance",
      "metadata": {}
    },
    {
      "cell_type": "markdown",
      "source": "**Creating a Class attribute**",
      "metadata": {}
    },
    {
      "cell_type": "code",
      "source": "class FirstClass():\n    class_attr_var = 10\na = FirstClass()\nprint(a.class_attr_var)",
      "metadata": {
        "trusted": true
      },
      "execution_count": 31,
      "outputs": [
        {
          "text": "10\n",
          "name": "stdout",
          "output_type": "stream"
        }
      ]
    },
    {
      "cell_type": "raw",
      "source": "In the above example, the var was created in the class itself\nPoint 1 - An instance of the a class knows what class it's from\nPoint 2 - Vars defined in the class are available to the instance",
      "metadata": {}
    },
    {
      "cell_type": "markdown",
      "source": "** Methods **",
      "metadata": {}
    },
    {
      "cell_type": "code",
      "source": "class Hiram(object):\n    access_where = 'Accessed from the class itself'\nhiraminst = Hiram()\nprint(hiraminst.access_where)",
      "metadata": {
        "trusted": true
      },
      "execution_count": 32,
      "outputs": [
        {
          "text": "Accessed from the class itself\n",
          "name": "stdout",
          "output_type": "stream"
        }
      ]
    },
    {
      "cell_type": "code",
      "source": "class Hiram(object):\n    def callmethod(self):\n        print('Example of a Method Call')\n        print(self)\n   \nhiraminst = Hiram()\nhiraminst.callmethod()\nprint(hiraminst)\n\n",
      "metadata": {
        "trusted": true
      },
      "execution_count": 21,
      "outputs": [
        {
          "text": "Example of a Method Call\n<__main__.Hiram object at 0x7ff948ffc860>\n<__main__.Hiram object at 0x7ff948ffc860>\n",
          "name": "stdout",
          "output_type": "stream"
        }
      ]
    },
    {
      "cell_type": "markdown",
      "source": "Note: def callmethod(self) - self is required because the instance gets passed as the first argument.\nNow when you print self, it will yield the instance name similar to print hiraminst\nTherefore self is the instance itself - hiraminst",
      "metadata": {}
    },
    {
      "cell_type": "markdown",
      "source": "**Instance Attributes**",
      "metadata": {}
    },
    {
      "cell_type": "code",
      "source": "import random\n\nclass MyRandom(object):\n    def do_rand(self):\n        print('randomizing')\n        self.rand_val = random.randint(1,10)\nmyinst = MyRandom()\nmyinst.do_rand()\nprint(myinst.rand_val)\n",
      "metadata": {
        "trusted": true
      },
      "execution_count": 29,
      "outputs": [
        {
          "text": "randomizing\n7\n",
          "name": "stdout",
          "output_type": "stream"
        }
      ]
    },
    {
      "cell_type": "markdown",
      "source": "**Encapsulation**",
      "metadata": {}
    },
    {
      "cell_type": "code",
      "source": "",
      "metadata": {},
      "execution_count": null,
      "outputs": []
    }
  ]
}